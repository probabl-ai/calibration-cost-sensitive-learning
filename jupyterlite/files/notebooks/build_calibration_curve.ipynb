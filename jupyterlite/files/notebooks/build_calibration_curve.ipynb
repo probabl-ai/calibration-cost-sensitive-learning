{
 "cells": [
  {
   "cell_type": "markdown",
   "id": "6108d159",
   "metadata": {},
   "source": [
    "\n",
    "# What is a calibration curve?\n",
    "\n",
    "Before we dive into how to interpret a calibration curve, let's start by getting\n",
    "intuitions on what it graphically represents. In this exercise, you will build your\n",
    "own calibration curve.\n",
    "\n",
    "To simplify the process, we only focus on the output of a binary classifier but\n",
    "without going into details on the model used to generate the predictions. We later\n",
    "discuss the implications of the data modeling process on the calibration curve.\n",
    "\n",
    "So let's first generate some predictions. The generative process is located in the\n",
    "file `_generate_predictions.py`. This process stores the observed labels and the\n",
    "predicted probability estimates of several models into the `predictions` folder."
   ]
  },
  {
   "cell_type": "code",
   "execution_count": null,
   "id": "f8418aa8",
   "metadata": {},
   "outputs": [],
   "source": [
    "# Make sure to have scikit-learn >= 1.5\n",
    "import sklearn\n",
    "\n",
    "sklearn.__version__"
   ]
  },
  {
   "cell_type": "code",
   "execution_count": null,
   "id": "5a83214e",
   "metadata": {
    "title": "Equivalent to the magic command \"%run _generate_predictions.py\" but it"
   },
   "outputs": [],
   "source": [
    "# allows this file to be executed as a Python script.\n",
    "from IPython import get_ipython\n",
    "\n",
    "ipython = get_ipython()\n",
    "ipython.run_line_magic(\"run\", \"../python_files/_generate_predictions.py\")"
   ]
  },
  {
   "cell_type": "markdown",
   "id": "805bc512",
   "metadata": {},
   "source": [
    "\n",
    "Let's load a the observed labels and the predicted probabilities of one of\n",
    "the models."
   ]
  },
  {
   "cell_type": "code",
   "execution_count": null,
   "id": "eb336b19",
   "metadata": {},
   "outputs": [],
   "source": [
    "import numpy as np\n",
    "\n",
    "y_observed = np.load(\"../predictions/y_true.npy\")\n",
    "y_prob = np.load(\"../predictions/y_prob_2.npy\")"
   ]
  },
  {
   "cell_type": "code",
   "execution_count": null,
   "id": "681e4b45",
   "metadata": {},
   "outputs": [],
   "source": [
    "y_observed"
   ]
  },
  {
   "cell_type": "markdown",
   "id": "efd4b0a3",
   "metadata": {},
   "source": [
    "\n",
    "`y_observed` contains the observed labels. In this case, we face a binary\n",
    "classification problem."
   ]
  },
  {
   "cell_type": "code",
   "execution_count": null,
   "id": "5e08626f",
   "metadata": {},
   "outputs": [],
   "source": [
    "y_prob"
   ]
  },
  {
   "cell_type": "markdown",
   "id": "e74672ce",
   "metadata": {},
   "source": [
    "\n",
    "`y_prob` contains the predicted probabilities of the positive class estimated\n",
    "by a given model.\n",
    "\n",
    "As discussed earlier, we could evaluate the discriminative power of the model\n",
    "using a metric such as the ROC-AUC score."
   ]
  },
  {
   "cell_type": "code",
   "execution_count": null,
   "id": "de73bba2",
   "metadata": {},
   "outputs": [],
   "source": [
    "from sklearn.metrics import roc_auc_score\n",
    "\n",
    "print(f\"ROC AUC: {roc_auc_score(y_observed, y_prob):.2f}\")"
   ]
  },
  {
   "cell_type": "markdown",
   "id": "11d2d75d",
   "metadata": {},
   "source": [
    "\n",
    "The score is much above 0.5 and it means that our model is able to\n",
    "discriminate between the two classes. However, this score does not tell us if\n",
    "the predicted probabilities are well calibrated.\n",
    "\n",
    "We can provide an example of a well-calibrated probability: for a given\n",
    "sample, the predicted probabilities is considered well-calibrated if the\n",
    "proportion of samples where this probability is predicted is equal to the\n",
    "probability itself.\n",
    "\n",
    "It is therefore possible to group predictions into bins based on their\n",
    "predicted probabilities and to calculate the proportion of positive samples\n",
    "in each bin and compare it to the average predicted probability in the bin.\n",
    "\n",
    "Scikit-learn provide a utility to plot this graphical representation. It is\n",
    "available through the class `sklearn.calibration.CalibrationDisplay`."
   ]
  },
  {
   "cell_type": "code",
   "execution_count": null,
   "id": "b3ec631d",
   "metadata": {},
   "outputs": [],
   "source": [
    "import matplotlib.pyplot as plt\n",
    "from sklearn.calibration import CalibrationDisplay\n",
    "\n",
    "n_bins = 10\n",
    "disp = CalibrationDisplay.from_predictions(\n",
    "    y_observed, y_prob, n_bins=n_bins, strategy=\"uniform\"\n",
    ")\n",
    "_ = disp.ax_.set(xlim=(0, 1), ylim=(0, 1), aspect=\"equal\")"
   ]
  },
  {
   "cell_type": "markdown",
   "id": "5ab9bb20",
   "metadata": {},
   "source": [
    "\n",
    "## Exercise:\n",
    "\n",
    "As a pedagogical exercise, we will build the calibration curve from scratch. This\n",
    "will help us understand the underlying process. The calibration curve is built by\n",
    "following these steps:\n",
    "\n",
    "1. Bin the predicted probabilities (i.e. `y_prob`) into 10 bins. You can use the\n",
    "   `pd.cut` function from the `pandas` library. It will return a `Categorical`\n",
    "   object where we get the bin identifier for each sample."
   ]
  },
  {
   "cell_type": "code",
   "execution_count": null,
   "id": "0067d671",
   "metadata": {},
   "outputs": [],
   "source": [
    "import pandas as pd\n",
    "\n",
    "# TODO"
   ]
  },
  {
   "cell_type": "markdown",
   "id": "4b680ce9",
   "metadata": {},
   "source": [
    "\n",
    "2. Create a DataFrame with the observed labels, predicted probabilities, and bin\n",
    "   identifier."
   ]
  },
  {
   "cell_type": "code",
   "execution_count": null,
   "id": "73129ee8",
   "metadata": {},
   "outputs": [],
   "source": [
    "# TODO"
   ]
  },
  {
   "cell_type": "markdown",
   "id": "f4b507ef",
   "metadata": {},
   "source": [
    "\n",
    "3. Group the DataFrame by the bin identifier and calculate the mean of the\n",
    "   observed labels and the predicted probabilities."
   ]
  },
  {
   "cell_type": "code",
   "execution_count": null,
   "id": "1fb4fbb6",
   "metadata": {},
   "outputs": [],
   "source": [
    "# TODO"
   ]
  },
  {
   "cell_type": "markdown",
   "id": "3be369e0",
   "metadata": {},
   "source": [
    "\n",
    "4. Plot the calibration curve by plotting the average predicted probabilities\n",
    "   against the fraction of positive samples."
   ]
  },
  {
   "cell_type": "code",
   "execution_count": null,
   "id": "a32a3f01",
   "metadata": {},
   "outputs": [],
   "source": [
    "# TODO"
   ]
  },
  {
   "cell_type": "markdown",
   "id": "1cd084a0",
   "metadata": {},
   "source": [
    "\n",
    "## Solution:\n",
    "\n",
    "As a pedagogical exercise, we will build the calibration curve from scratch. This\n",
    "will help us understand the underlying process. The calibration curve is built by\n",
    "following these steps:\n",
    "\n",
    "1. Bin the predicted probabilities (i.e. `y_prob`) into 10 bins. You can use the\n",
    "   `pd.cut` function from the `pandas` library. It will return a `Categorical`\n",
    "   object where we get the bin identifier for each sample."
   ]
  },
  {
   "cell_type": "code",
   "execution_count": null,
   "id": "db77d72b",
   "metadata": {},
   "outputs": [],
   "source": [
    "import pandas as pd\n",
    "\n",
    "bin_identifier = pd.cut(y_prob, bins=n_bins)"
   ]
  },
  {
   "cell_type": "markdown",
   "id": "64393abc",
   "metadata": {},
   "source": [
    "\n",
    "2. Create a DataFrame with the observed labels, predicted probabilities, and\n",
    "   bin identifier."
   ]
  },
  {
   "cell_type": "code",
   "execution_count": null,
   "id": "3c57abc5",
   "metadata": {},
   "outputs": [],
   "source": [
    "predictions = pd.DataFrame(\n",
    "    {\n",
    "        \"y_observed\": y_observed,\n",
    "        \"y_prob\": y_prob,\n",
    "        \"bin_identifier\": bin_identifier,\n",
    "    }\n",
    ")\n",
    "predictions"
   ]
  },
  {
   "cell_type": "markdown",
   "id": "ac9c37b3",
   "metadata": {},
   "source": [
    "\n",
    "3. Group the DataFrame by the bin identifier and calculate the mean of the\n",
    "   observed labels and the predicted probabilities."
   ]
  },
  {
   "cell_type": "code",
   "execution_count": null,
   "id": "faaf187b",
   "metadata": {},
   "outputs": [],
   "source": [
    "mean_per_bin = predictions.groupby(\"bin_identifier\", observed=True).mean()"
   ]
  },
  {
   "cell_type": "markdown",
   "id": "dc85a509",
   "metadata": {},
   "source": [
    "\n",
    "4. Plot the calibration curve by plotting the average predicted probabilities\n",
    "   against the fraction of positive samples."
   ]
  },
  {
   "cell_type": "code",
   "execution_count": null,
   "id": "4940b971",
   "metadata": {},
   "outputs": [],
   "source": [
    "_, ax = plt.subplots()\n",
    "mean_per_bin.plot(\"y_prob\", \"y_observed\", ax=ax)\n",
    "ax.plot([0, 1], [0, 1], \"k:\", label=\"Perfectly calibrated\")\n",
    "ax.legend()\n",
    "_ = ax.set(\n",
    "    xlim=(0, 1),\n",
    "    ylim=(0, 1),\n",
    "    xlabel=\"Average predicted probability\",\n",
    "    ylabel=\"Fraction of positive samples\",\n",
    "    aspect=\"equal\",\n",
    "    title=\"Calibration curve\",\n",
    ")"
   ]
  },
  {
   "cell_type": "markdown",
   "id": "8ab29003",
   "metadata": {
    "lines_to_next_cell": 2
   },
   "source": [
    "\n",
    "Scikit-learn also provides a parameter `strategy` that is the strategy to adopt to\n",
    "create the bins. By default, we used the `\"uniform\"` strategy. However, it can happen\n",
    "that only few samples are present in some bins, leading to a noisy calibration curve.\n",
    "\n",
    "The strategy `\"quantile\"` ensures that each bin has the same number of samples. We\n",
    "can show it on our previous example:"
   ]
  },
  {
   "cell_type": "code",
   "execution_count": null,
   "id": "6f3748c9",
   "metadata": {},
   "outputs": [],
   "source": [
    "disp = CalibrationDisplay.from_predictions(\n",
    "    y_observed, y_prob, n_bins=n_bins, strategy=\"quantile\"\n",
    ")\n",
    "_ = disp.ax_.set(xlim=(0, 1), ylim=(0, 1), aspect=\"equal\")"
   ]
  },
  {
   "cell_type": "markdown",
   "id": "2a269525",
   "metadata": {},
   "source": [
    "\n",
    "## Exercise:\n",
    "\n",
    "Modify your previous implementation such that `pd.cut` uses quantiles to create the\n",
    "bins instead of the default uniform behaviour. Specifically, look at the `bins`\n",
    "parameter in `pd.cut` and the function `np.quantile` to compute the quantile from\n",
    "the predicted probabilities in `y_prob` to create the bins."
   ]
  },
  {
   "cell_type": "code",
   "execution_count": null,
   "id": "1bb5492c",
   "metadata": {},
   "outputs": [],
   "source": [
    "# TODO"
   ]
  },
  {
   "cell_type": "markdown",
   "id": "974b6528",
   "metadata": {},
   "source": [
    "\n",
    "## Solution:"
   ]
  },
  {
   "cell_type": "code",
   "execution_count": null,
   "id": "508ba86b",
   "metadata": {},
   "outputs": [],
   "source": [
    "bins = np.quantile(y_prob, np.linspace(0, 1, n_bins))\n",
    "bin_identifier = pd.cut(y_prob, bins=bins)\n",
    "predictions = pd.DataFrame(\n",
    "    {\n",
    "        \"y_observed\": y_observed,\n",
    "        \"y_prob\": y_prob,\n",
    "        \"bin_identifier\": bin_identifier,\n",
    "    }\n",
    ")\n",
    "mean_per_bin = predictions.groupby(\"bin_identifier\", observed=True).mean()\n",
    "_, ax = plt.subplots()\n",
    "mean_per_bin.plot(\"y_prob\", \"y_observed\", ax=ax)\n",
    "ax.plot([0, 1], [0, 1], \"k:\", label=\"Perfectly calibrated\")\n",
    "ax.legend()\n",
    "_ = ax.set(\n",
    "    xlim=(0, 1),\n",
    "    ylim=(0, 1),\n",
    "    xlabel=\"Average predicted probability\",\n",
    "    ylabel=\"Fraction of positive samples\",\n",
    "    aspect=\"equal\",\n",
    "    title=\"Calibration curve\",\n",
    ")"
   ]
  }
 ],
 "metadata": {
  "jupytext": {
   "cell_metadata_filter": "title,-all",
   "main_language": "python",
   "notebook_metadata_filter": "-all"
  }
 },
 "nbformat": 4,
 "nbformat_minor": 5
}

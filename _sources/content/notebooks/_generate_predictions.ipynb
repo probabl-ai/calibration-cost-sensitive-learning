{
 "cells": [
  {
   "cell_type": "code",
   "execution_count": null,
   "id": "50fc45a9",
   "metadata": {},
   "outputs": [],
   "source": [
    "from pathlib import Path\n",
    "\n",
    "Path.mkdir(Path.cwd() / \"..\" / \"predictions\", exist_ok=True)"
   ]
  },
  {
   "cell_type": "code",
   "execution_count": null,
   "id": "4d35d819",
   "metadata": {},
   "outputs": [],
   "source": [
    "import numpy as np\n",
    "from sklearn.datasets import make_classification\n",
    "from sklearn.model_selection import train_test_split\n",
    "\n",
    "X, y = make_classification(\n",
    "    n_samples=100_000, class_sep=0.5, random_state=0\n",
    ")\n",
    "X_train, X_test, y_train, y_test = train_test_split(X, y, test_size=0.5, random_state=0)\n",
    "np.save(\"../predictions/y_true.npy\", y_test)"
   ]
  },
  {
   "cell_type": "code",
   "execution_count": null,
   "id": "50b55504",
   "metadata": {},
   "outputs": [],
   "source": [
    "from sklearn.linear_model import LogisticRegression\n",
    "\n",
    "model = LogisticRegression()\n",
    "model.fit(X_train, y_train)"
   ]
  },
  {
   "cell_type": "code",
   "execution_count": null,
   "id": "ef751f53",
   "metadata": {},
   "outputs": [],
   "source": [
    "y_pred = model.predict_proba(X_test)[:, 1]"
   ]
  },
  {
   "cell_type": "code",
   "execution_count": null,
   "id": "4b9729ba",
   "metadata": {},
   "outputs": [],
   "source": [
    "np.save(\"../predictions/y_prob_1.npy\", y_pred)"
   ]
  },
  {
   "cell_type": "code",
   "execution_count": null,
   "id": "3bd83c5a",
   "metadata": {},
   "outputs": [],
   "source": [
    "from scipy.special import expit\n",
    "\n",
    "y_pred = model.predict_proba(X_test)[:, 1]\n",
    "y_pred = expit(10 * (y_pred - 0.5))"
   ]
  },
  {
   "cell_type": "code",
   "execution_count": null,
   "id": "3b669f08",
   "metadata": {
    "lines_to_next_cell": 2
   },
   "outputs": [],
   "source": [
    "np.save(\"../predictions/y_prob_2.npy\", y_pred)"
   ]
  },
  {
   "cell_type": "code",
   "execution_count": null,
   "id": "bdf3546e",
   "metadata": {},
   "outputs": [],
   "source": [
    "y_pred = model.predict_proba(X_test)[:, 1]\n",
    "y_pred = np.log(y_pred)\n",
    "y_pred = (y_pred - y_pred.min()) / (y_pred.max() - y_pred.min())"
   ]
  },
  {
   "cell_type": "code",
   "execution_count": null,
   "id": "5484c30c",
   "metadata": {},
   "outputs": [],
   "source": [
    "np.save(\"../predictions/y_prob_3.npy\", y_pred)"
   ]
  },
  {
   "cell_type": "code",
   "execution_count": null,
   "id": "26b189d8",
   "metadata": {},
   "outputs": [],
   "source": [
    "y_pred = model.predict_proba(X_test)[:, 1]\n",
    "y_pred = np.exp(y_pred * 5)\n",
    "y_pred = (y_pred - y_pred.min()) / (y_pred.max() - y_pred.min())"
   ]
  },
  {
   "cell_type": "code",
   "execution_count": null,
   "id": "1d56893a",
   "metadata": {},
   "outputs": [],
   "source": [
    "np.save(\"../predictions/y_prob_4.npy\", y_pred)"
   ]
  }
 ],
 "metadata": {
  "jupytext": {
   "cell_metadata_filter": "-all",
   "main_language": "python",
   "notebook_metadata_filter": "-all"
  }
 },
 "nbformat": 4,
 "nbformat_minor": 5
}

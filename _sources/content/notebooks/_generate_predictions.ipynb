{
 "cells": [
  {
   "cell_type": "code",
   "execution_count": null,
   "id": "adc8290c",
   "metadata": {},
   "outputs": [],
   "source": [
    "from pathlib import Path\n",
    "\n",
    "Path.mkdir(Path.cwd() / \"..\" / \"predictions\", exist_ok=True)"
   ]
  },
  {
   "cell_type": "code",
   "execution_count": null,
   "id": "fe76a126",
   "metadata": {},
   "outputs": [],
   "source": [
    "import numpy as np\n",
    "from sklearn.datasets import make_classification\n",
    "from sklearn.model_selection import train_test_split\n",
    "\n",
    "X, y = make_classification(\n",
    "    n_samples=100_000, class_sep=0.5, random_state=0\n",
    ")\n",
    "X_train, X_test, y_train, y_test = train_test_split(X, y, test_size=0.5, random_state=0)\n",
    "np.save(\"../predictions/y_true.npy\", y_test)"
   ]
  },
  {
   "cell_type": "code",
   "execution_count": null,
   "id": "619fc1f0",
   "metadata": {},
   "outputs": [],
   "source": [
    "from sklearn.linear_model import LogisticRegression\n",
    "\n",
    "model = LogisticRegression()\n",
    "model.fit(X_train, y_train)"
   ]
  },
  {
   "cell_type": "code",
   "execution_count": null,
   "id": "c4ca1c3d",
   "metadata": {},
   "outputs": [],
   "source": [
    "raw_y_pred = model.predict_proba(X_test)[:, 1]"
   ]
  },
  {
   "cell_type": "code",
   "execution_count": null,
   "id": "fb19b6b1",
   "metadata": {},
   "outputs": [],
   "source": [
    "np.save(\"../predictions/y_prob_1.npy\", raw_y_pred)"
   ]
  },
  {
   "cell_type": "code",
   "execution_count": null,
   "id": "26105c1c",
   "metadata": {
    "lines_to_next_cell": 2
   },
   "outputs": [],
   "source": [
    "from scipy.special import expit\n",
    "\n",
    "y_pred = expit(10 * (raw_y_pred - 0.5))\n",
    "\n",
    "np.save(\"../predictions/y_prob_2.npy\", y_pred)"
   ]
  },
  {
   "cell_type": "code",
   "execution_count": null,
   "id": "93c5ca99",
   "metadata": {},
   "outputs": [],
   "source": [
    "from scipy.interpolate import interp1d\n",
    "\n",
    "# Mirror the previous sigmoid curve around the diagonal:\n",
    "y_pred = interp1d(y_pred, raw_y_pred, fill_value=\"extrapolate\")(raw_y_pred)\n",
    "y_pred = (y_pred - y_pred.min()) / (y_pred.max() - y_pred.min())\n",
    "\n",
    "np.save(\"../predictions/y_prob_3.npy\", y_pred)"
   ]
  },
  {
   "cell_type": "code",
   "execution_count": null,
   "id": "486dd2fe",
   "metadata": {
    "lines_to_next_cell": 2
   },
   "outputs": [],
   "source": [
    "# Equality reweighting the classes at training time.\n",
    "\n",
    "p = raw_y_pred\n",
    "w = 0.3\n",
    "y_pred = (p / w) / (1 - p + p / w)\n",
    "\n",
    "np.save(\"../predictions/y_prob_4.npy\", y_pred)"
   ]
  }
 ],
 "metadata": {
  "jupytext": {
   "cell_metadata_filter": "-all",
   "main_language": "python",
   "notebook_metadata_filter": "-all"
  }
 },
 "nbformat": 4,
 "nbformat_minor": 5
}
